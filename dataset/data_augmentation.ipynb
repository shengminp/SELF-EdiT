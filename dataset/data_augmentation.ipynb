{
 "cells": [
  {
   "cell_type": "code",
   "execution_count": 1,
   "id": "0cf7f59c",
   "metadata": {},
   "outputs": [],
   "source": [
    "import os\n",
    "import sys\n",
    "import textdistance\n",
    "import pandas as pd\n",
    "import selfies as sf\n",
    "from tqdm import tqdm\n",
    "from rdkit import Chem\n",
    "from rdkit.Chem import rdFMCS"
   ]
  },
  {
   "cell_type": "code",
   "execution_count": 5,
   "id": "b3f46c79",
   "metadata": {},
   "outputs": [],
   "source": [
    "DATA_PATH = os.getcwd()\n",
    "PRO_PATH = os.path.abspath(os.path.join(os.getcwd(), os.pardir))\n",
    "DATA_TYPE = \"qed\" # or \"drd2\""
   ]
  },
  {
   "cell_type": "code",
   "execution_count": 9,
   "id": "35b6d6fc",
   "metadata": {},
   "outputs": [],
   "source": [
    "TOKENIZER_PATH = os.path.join(PRO_PATH, 'fairseq_mo', 'utils')\n",
    "if TOKENIZER_PATH not in sys.path:\n",
    "    sys.path = [TOKENIZER_PATH] + sys.path\n",
    "from tokenizer import branch_based_standardization, selfies_tokenizer"
   ]
  },
  {
   "cell_type": "markdown",
   "id": "c9a9cd10",
   "metadata": {},
   "source": [
    "# functions"
   ]
  },
  {
   "cell_type": "code",
   "execution_count": 5,
   "id": "2faf8d7c",
   "metadata": {},
   "outputs": [],
   "source": [
    "def mol2smi(mol, rootedAtAtom=-1):\n",
    "    return Chem.MolToSmiles(mol, isomericSmiles=False, kekuleSmiles=True, rootedAtAtom=rootedAtAtom, canonical=True, doRandom=False)"
   ]
  },
  {
   "cell_type": "code",
   "execution_count": 6,
   "id": "a46e4be5",
   "metadata": {},
   "outputs": [],
   "source": [
    "def reorder_atoms_by_mcs(smi_1, smi_2):\n",
    "    mol_1 = Chem.MolFromSmiles(smi_1)\n",
    "    mol_2 = Chem.MolFromSmiles(smi_2)\n",
    "    \n",
    "    res = rdFMCS.FindMCS([mol_1, mol_2], completeRingsOnly=True)\n",
    "    mol_mcs = Chem.MolFromSmarts(res.smartsString)\n",
    "    \n",
    "    match_1 = mol_1.GetSubstructMatch(mol_mcs)\n",
    "    match_2 = mol_2.GetSubstructMatch(mol_mcs)\n",
    "    \n",
    "    new_1 = [mol2smi(mol_1, i) for i in match_1]\n",
    "    new_2 = [mol2smi(mol_2, i) for i in match_2]\n",
    "    \n",
    "    return new_1, new_2"
   ]
  },
  {
   "cell_type": "code",
   "execution_count": 14,
   "id": "3f07dc93",
   "metadata": {},
   "outputs": [],
   "source": [
    "def get_list_selfies_tokens(smiles_list):\n",
    "    sel_tokens_list = list()\n",
    "    for smi in smiles_list:\n",
    "        try:\n",
    "            sel = sf.encoder(smi)\n",
    "            # use fragment based tokenization\n",
    "            sel_tokens = selfies_tokenization(sel)\n",
    "            # use char based tokenization\n",
    "            #sel_tokens = atomwise_tokenizer(sel)\n",
    "            sel_tokens_list.append(sel_tokens)\n",
    "        except (sf.exceptions.SMILESParserError, sf.exceptions.EncoderError) as e:\n",
    "            sel_tokens_list.append(None)\n",
    "    return sel_tokens_list"
   ]
  },
  {
   "cell_type": "code",
   "execution_count": 19,
   "id": "352843c3",
   "metadata": {},
   "outputs": [],
   "source": [
    "def get_lev_js_from_string(source_frags, target_frags):\n",
    "    dis = textdistance.levenshtein.distance(source_frags, target_frags)\n",
    "    sim = textdistance.levenshtein.similarity(source_frags, target_frags)\n",
    "    sim_norm = textdistance.levenshtein.normalized_similarity(source_frags, target_frags)\n",
    "    js = textdistance.jaccard.similarity(source_frags, target_frags)\n",
    "    return dis, sim, sim_norm, js"
   ]
  },
  {
   "cell_type": "markdown",
   "id": "5a5f175d",
   "metadata": {},
   "source": [
    "# data augmentation"
   ]
  },
  {
   "cell_type": "code",
   "execution_count": 15,
   "id": "3e374f7b",
   "metadata": {},
   "outputs": [],
   "source": [
    "low_df = pd.read_csv(os.path.join(DATA_PATH, DATA_TYPE, \"ori_data\", \"rdkit_train_src.txt\"), names=[\"low\"])\n",
    "high_df = pd.read_csv(os.path.join(DATA_PATH, DATA_TYPE, \"ori_data\", \"rdkit_train_tar.txt\"), names=[\"high\"])\n",
    "low_smiles = low_df[\"low\"].tolist()\n",
    "high_smiles = high_df[\"high\"].tolist()"
   ]
  },
  {
   "cell_type": "code",
   "execution_count": 35,
   "id": "898c0a4b",
   "metadata": {},
   "outputs": [],
   "source": [
    "def get_candidates():\n",
    "    low_df = pd.read_csv(os.path.join(DATA_PATH, DATA_TYPE, \"ori_data\", \"rdkit_train_src.txt\"), names=[\"low\"])\n",
    "    high_df = pd.read_csv(os.path.join(DATA_PATH, DATA_TYPE, \"ori_data\", \"rdkit_train_tar.txt\"), names=[\"high\"])\n",
    "    low_smiles = low_df[\"low\"].tolist()\n",
    "    high_smiles = high_df[\"high\"].tolist()\n",
    "    candidates = list()\n",
    "    for pair in tqdm(zip(low_smiles, high_smiles), total=len(low_smiles)):\n",
    "        mcs_based_low, mcs_based_high = reorder_atoms_by_mcs(pair[0], pair[1])\n",
    "        for low in mcs_based_low:\n",
    "            low = branch_based_standardization(low) # doing standardization\n",
    "            low_sel_tokens = get_list_selfies_tokens([low])[0]\n",
    "            if low_sel_tokens is None:\n",
    "                continue\n",
    "            for high in mcs_based_high:\n",
    "                high = branch_based_standardization(high) # doing standardization\n",
    "                high_sel_tokens = get_list_selfies_tokens([high])[0]\n",
    "                if high_sel_tokens is None:\n",
    "                    continue\n",
    "                dis, sim, sim_norm, js = get_lev_js_from_string(low_sel_tokens, high_sel_tokens)\n",
    "                candidates.append((low, high, dis, sim, sim_norm, js))\n",
    "        break\n",
    "    candidates_df = pd.DataFrame(candidates, columns=[\"low\", \"high\", \"lev\", \"sim\", \"sim_norm\", \"js\"])\n",
    "    candidates_df.to_pickle(os.path.join(DATA_PATH, DATA_TYPE, \"aug_data\", \"candidates.pkl\"))\n",
    "    return candidates_df"
   ]
  },
  {
   "cell_type": "code",
   "execution_count": 36,
   "id": "e9156d45",
   "metadata": {},
   "outputs": [
    {
     "name": "stderr",
     "output_type": "stream",
     "text": [
      "  0%|                                                                                                                                                                                 | 0/88306 [00:00<?, ?it/s]\n"
     ]
    }
   ],
   "source": [
    "candidates = get_candidates()"
   ]
  },
  {
   "cell_type": "code",
   "execution_count": 39,
   "id": "b6e793ed",
   "metadata": {},
   "outputs": [],
   "source": [
    "filtered_df = candidates[(candidates[\"sim_norm\"]>0.5) & (candidates[\"lev\"]>1) & (candidates[\"lev\"]<=10)]"
   ]
  },
  {
   "cell_type": "code",
   "execution_count": 40,
   "id": "8d26a5ce",
   "metadata": {},
   "outputs": [
    {
     "data": {
      "text/html": [
       "<div>\n",
       "<style scoped>\n",
       "    .dataframe tbody tr th:only-of-type {\n",
       "        vertical-align: middle;\n",
       "    }\n",
       "\n",
       "    .dataframe tbody tr th {\n",
       "        vertical-align: top;\n",
       "    }\n",
       "\n",
       "    .dataframe thead th {\n",
       "        text-align: right;\n",
       "    }\n",
       "</style>\n",
       "<table border=\"1\" class=\"dataframe\">\n",
       "  <thead>\n",
       "    <tr style=\"text-align: right;\">\n",
       "      <th></th>\n",
       "      <th>low</th>\n",
       "      <th>high</th>\n",
       "      <th>lev</th>\n",
       "      <th>sim</th>\n",
       "      <th>sim_norm</th>\n",
       "      <th>js</th>\n",
       "    </tr>\n",
       "  </thead>\n",
       "  <tbody>\n",
       "    <tr>\n",
       "      <th>54</th>\n",
       "      <td>C1CC(C(C)(C)C)CC2=C1C(C(N)=O)=C(S2)NC(=O)COC1=...</td>\n",
       "      <td>C1CC(C)CC2=C1C(C(N)=O)=C(S2)NC(=O)C1=CC=CO1</td>\n",
       "      <td>3</td>\n",
       "      <td>6</td>\n",
       "      <td>0.666667</td>\n",
       "      <td>0.545455</td>\n",
       "    </tr>\n",
       "    <tr>\n",
       "      <th>56</th>\n",
       "      <td>C1CC(C(C)(C)C)CC2=C1C(C(N)=O)=C(S2)NC(=O)COC1=...</td>\n",
       "      <td>C12=C(CCC(C)C1)C(C(N)=O)=C(S2)NC(=O)C1=CC=CO1</td>\n",
       "      <td>4</td>\n",
       "      <td>5</td>\n",
       "      <td>0.555556</td>\n",
       "      <td>0.416667</td>\n",
       "    </tr>\n",
       "    <tr>\n",
       "      <th>57</th>\n",
       "      <td>C1CC(C(C)(C)C)CC2=C1C(C(N)=O)=C(S2)NC(=O)COC1=...</td>\n",
       "      <td>C1C2=C(CCC1C)C(C(N)=O)=C(S2)NC(=O)C1=CC=CO1</td>\n",
       "      <td>4</td>\n",
       "      <td>5</td>\n",
       "      <td>0.555556</td>\n",
       "      <td>0.416667</td>\n",
       "    </tr>\n",
       "    <tr>\n",
       "      <th>105</th>\n",
       "      <td>C1C2=C(CCC1C(C)(C)C)C(C(N)=O)=C(S2)NC(=O)COC1=...</td>\n",
       "      <td>C1CC(C)CC2=C1C(C(N)=O)=C(S2)NC(=O)C1=CC=CO1</td>\n",
       "      <td>4</td>\n",
       "      <td>5</td>\n",
       "      <td>0.555556</td>\n",
       "      <td>0.416667</td>\n",
       "    </tr>\n",
       "    <tr>\n",
       "      <th>107</th>\n",
       "      <td>C1C2=C(CCC1C(C)(C)C)C(C(N)=O)=C(S2)NC(=O)COC1=...</td>\n",
       "      <td>C12=C(CCC(C)C1)C(C(N)=O)=C(S2)NC(=O)C1=CC=CO1</td>\n",
       "      <td>4</td>\n",
       "      <td>5</td>\n",
       "      <td>0.555556</td>\n",
       "      <td>0.416667</td>\n",
       "    </tr>\n",
       "    <tr>\n",
       "      <th>108</th>\n",
       "      <td>C1C2=C(CCC1C(C)(C)C)C(C(N)=O)=C(S2)NC(=O)COC1=...</td>\n",
       "      <td>C1C2=C(CCC1C)C(C(N)=O)=C(S2)NC(=O)C1=CC=CO1</td>\n",
       "      <td>4</td>\n",
       "      <td>5</td>\n",
       "      <td>0.555556</td>\n",
       "      <td>0.416667</td>\n",
       "    </tr>\n",
       "    <tr>\n",
       "      <th>180</th>\n",
       "      <td>C(N)(=O)C1=C(SC2=C1CCC(C2)C(C)(C)C)NC(=O)COC1=...</td>\n",
       "      <td>C(N)(=O)C1=C(SC2=C1CCC(C)C2)NC(=O)C1=CC=CO1</td>\n",
       "      <td>4</td>\n",
       "      <td>5</td>\n",
       "      <td>0.555556</td>\n",
       "      <td>0.454545</td>\n",
       "    </tr>\n",
       "  </tbody>\n",
       "</table>\n",
       "</div>"
      ],
      "text/plain": [
       "                                                   low  \\\n",
       "54   C1CC(C(C)(C)C)CC2=C1C(C(N)=O)=C(S2)NC(=O)COC1=...   \n",
       "56   C1CC(C(C)(C)C)CC2=C1C(C(N)=O)=C(S2)NC(=O)COC1=...   \n",
       "57   C1CC(C(C)(C)C)CC2=C1C(C(N)=O)=C(S2)NC(=O)COC1=...   \n",
       "105  C1C2=C(CCC1C(C)(C)C)C(C(N)=O)=C(S2)NC(=O)COC1=...   \n",
       "107  C1C2=C(CCC1C(C)(C)C)C(C(N)=O)=C(S2)NC(=O)COC1=...   \n",
       "108  C1C2=C(CCC1C(C)(C)C)C(C(N)=O)=C(S2)NC(=O)COC1=...   \n",
       "180  C(N)(=O)C1=C(SC2=C1CCC(C2)C(C)(C)C)NC(=O)COC1=...   \n",
       "\n",
       "                                              high  lev  sim  sim_norm  \\\n",
       "54     C1CC(C)CC2=C1C(C(N)=O)=C(S2)NC(=O)C1=CC=CO1    3    6  0.666667   \n",
       "56   C12=C(CCC(C)C1)C(C(N)=O)=C(S2)NC(=O)C1=CC=CO1    4    5  0.555556   \n",
       "57     C1C2=C(CCC1C)C(C(N)=O)=C(S2)NC(=O)C1=CC=CO1    4    5  0.555556   \n",
       "105    C1CC(C)CC2=C1C(C(N)=O)=C(S2)NC(=O)C1=CC=CO1    4    5  0.555556   \n",
       "107  C12=C(CCC(C)C1)C(C(N)=O)=C(S2)NC(=O)C1=CC=CO1    4    5  0.555556   \n",
       "108    C1C2=C(CCC1C)C(C(N)=O)=C(S2)NC(=O)C1=CC=CO1    4    5  0.555556   \n",
       "180    C(N)(=O)C1=C(SC2=C1CCC(C)C2)NC(=O)C1=CC=CO1    4    5  0.555556   \n",
       "\n",
       "           js  \n",
       "54   0.545455  \n",
       "56   0.416667  \n",
       "57   0.416667  \n",
       "105  0.416667  \n",
       "107  0.416667  \n",
       "108  0.416667  \n",
       "180  0.454545  "
      ]
     },
     "execution_count": 40,
     "metadata": {},
     "output_type": "execute_result"
    }
   ],
   "source": [
    "filtered_df"
   ]
  },
  {
   "cell_type": "code",
   "execution_count": 42,
   "id": "325066ed",
   "metadata": {},
   "outputs": [
    {
     "name": "stderr",
     "output_type": "stream",
     "text": [
      "100%|███████████████████████████████████████████████████████████████████████████████████████████████████████████████████████████████████████████████████████████████████████████| 7/7 [00:00<00:00, 2789.30it/s]\n"
     ]
    }
   ],
   "source": [
    "remake_low = list()\n",
    "remake_high = list()\n",
    "for _, item in tqdm(filtered_df.iterrows(), total=len(filtered_df)):\n",
    "    low_mol = Chem.MolFromSmiles(item[\"low\"])\n",
    "    high_mol = Chem.MolFromSmiles(item[\"high\"])\n",
    "    if low_mol is None or high_mol is None:\n",
    "        continue\n",
    "    else:\n",
    "        remake_low.append(item[\"low\"])\n",
    "        remake_high.append(item[\"high\"])"
   ]
  },
  {
   "cell_type": "code",
   "execution_count": null,
   "id": "d5b6fe1f",
   "metadata": {},
   "outputs": [],
   "source": []
  }
 ],
 "metadata": {
  "kernelspec": {
   "display_name": "Python 3 (ipykernel)",
   "language": "python",
   "name": "python3"
  },
  "language_info": {
   "codemirror_mode": {
    "name": "ipython",
    "version": 3
   },
   "file_extension": ".py",
   "mimetype": "text/x-python",
   "name": "python",
   "nbconvert_exporter": "python",
   "pygments_lexer": "ipython3",
   "version": "3.7.12"
  }
 },
 "nbformat": 4,
 "nbformat_minor": 5
}
