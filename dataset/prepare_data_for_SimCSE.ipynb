{
 "cells": [
  {
   "cell_type": "code",
   "execution_count": 1,
   "id": "a3a57c93",
   "metadata": {},
   "outputs": [],
   "source": [
    "import os\n",
    "import sys\n",
    "import pandas as pd\n",
    "import selfies as sf\n",
    "from tqdm import tqdm\n",
    "from selfies import encoder, decoder"
   ]
  },
  {
   "cell_type": "code",
   "execution_count": 2,
   "id": "361d439a",
   "metadata": {},
   "outputs": [],
   "source": [
    "DATA_TYPE = \"qed\"\n",
    "DATA_PATH = os.getcwd()\n",
    "PRO_PATH = os.path.abspath(os.path.join(os.getcwd(), os.pardir))\n",
    "TOKENIZER_PATH = os.path.join(PRO_PATH, 'fairseq_mo', 'utils')\n",
    "if TOKENIZER_PATH not in sys.path:\n",
    "    sys.path = [TOKENIZER_PATH] + sys.path\n",
    "from tokenizer import selfies_tokenizer, atomwise_tokenizer, MoTokenizer"
   ]
  },
  {
   "cell_type": "code",
   "execution_count": 3,
   "id": "47e7344b",
   "metadata": {},
   "outputs": [],
   "source": [
    "total_smiles = list()\n",
    "for file_name in os.listdir(os.path.join(DATA_PATH, DATA_TYPE, 'aug_data')):\n",
    "    with open(os.path.join(DATA_PATH, DATA_TYPE, 'aug_data', file_name), 'r') as fp:\n",
    "        file_smiles = [line.strip() for line in fp.readlines()]\n",
    "        file_smiles = list(set(file_smiles))\n",
    "        total_smiles += file_smiles"
   ]
  },
  {
   "cell_type": "code",
   "execution_count": 4,
   "id": "928046ed",
   "metadata": {},
   "outputs": [
    {
     "name": "stderr",
     "output_type": "stream",
     "text": [
      "100%|██████████████████████████████████████████████████████████████████████████████████████████████████████████████████████████████████████████████████████████████████████████████████████████| 479681/479681 [01:44<00:00, 4573.34it/s]\n"
     ]
    }
   ],
   "source": [
    "total_selfies = [encoder(smi) for smi in tqdm(total_smiles)]"
   ]
  },
  {
   "cell_type": "code",
   "execution_count": 5,
   "id": "091c4872",
   "metadata": {},
   "outputs": [
    {
     "name": "stderr",
     "output_type": "stream",
     "text": [
      "100%|█████████████████████████████████████████████████████████████████████████████████████████████████████████████████████████████████████████████████████████████████████████████████████████| 479681/479681 [00:23<00:00, 20550.14it/s]\n"
     ]
    }
   ],
   "source": [
    "total_frags = set()\n",
    "for sel in tqdm(total_selfies):\n",
    "    total_frags.update(set(selfies_tokenizer(sel)))"
   ]
  },
  {
   "cell_type": "code",
   "execution_count": 6,
   "id": "d63a18e3",
   "metadata": {},
   "outputs": [],
   "source": [
    "with open(os.path.join(DATA_PATH, DATA_TYPE, 'emb_data', 'tokens.txt'), 'w') as fp:\n",
    "    fp.write('\\n'.join(total_frags))"
   ]
  },
  {
   "cell_type": "code",
   "execution_count": 7,
   "id": "5ee60ea9",
   "metadata": {},
   "outputs": [
    {
     "name": "stderr",
     "output_type": "stream",
     "text": [
      "100%|███████████████████████████████████████████████████████████████████████████████████████████████████████████████████████████████████████████████████████████████████████████████████████████| 54946/54946 [00:00<00:00, 72096.73it/s]\n"
     ]
    }
   ],
   "source": [
    "vocab = set()\n",
    "for frag in tqdm(total_frags):\n",
    "    vocab.update(set(atomwise_tokenizer(frag)))"
   ]
  },
  {
   "cell_type": "code",
   "execution_count": 8,
   "id": "217ba0f4",
   "metadata": {},
   "outputs": [],
   "source": [
    "VOCAB_PATH = os.path.join(DATA_PATH, DATA_TYPE, 'emb_data', 'vocab.txt')\n",
    "with open(VOCAB_PATH, 'w') as fp:\n",
    "    fp.write('\\n'.join(vocab))"
   ]
  },
  {
   "cell_type": "code",
   "execution_count": 9,
   "id": "0a191093",
   "metadata": {},
   "outputs": [],
   "source": [
    "mo_tokenizer = MoTokenizer(vocab_file=VOCAB_PATH)"
   ]
  },
  {
   "cell_type": "code",
   "execution_count": 10,
   "id": "7b94e4ff",
   "metadata": {},
   "outputs": [
    {
     "data": {
      "text/plain": [
       "('/Data1/sungmin/SELF-EdiT/dataset/qed/emb_data/tokenizer/tokenizer_config.json',\n",
       " '/Data1/sungmin/SELF-EdiT/dataset/qed/emb_data/tokenizer/special_tokens_map.json',\n",
       " '/Data1/sungmin/SELF-EdiT/dataset/qed/emb_data/tokenizer/vocab.txt',\n",
       " '/Data1/sungmin/SELF-EdiT/dataset/qed/emb_data/tokenizer/added_tokens.json')"
      ]
     },
     "execution_count": 10,
     "metadata": {},
     "output_type": "execute_result"
    }
   ],
   "source": [
    "mo_tokenizer.save_pretrained(os.path.join(DATA_PATH, DATA_TYPE, 'emb_data', 'tokenizer'))"
   ]
  },
  {
   "cell_type": "code",
   "execution_count": null,
   "id": "771cc2f2",
   "metadata": {},
   "outputs": [],
   "source": []
  }
 ],
 "metadata": {
  "kernelspec": {
   "display_name": "Python 3 (ipykernel)",
   "language": "python",
   "name": "python3"
  },
  "language_info": {
   "codemirror_mode": {
    "name": "ipython",
    "version": 3
   },
   "file_extension": ".py",
   "mimetype": "text/x-python",
   "name": "python",
   "nbconvert_exporter": "python",
   "pygments_lexer": "ipython3",
   "version": "3.7.12"
  }
 },
 "nbformat": 4,
 "nbformat_minor": 5
}
