{
 "cells": [
  {
   "cell_type": "code",
   "execution_count": 1,
   "id": "8842665a",
   "metadata": {},
   "outputs": [],
   "source": [
    "import os\n",
    "import sys\n",
    "import numpy as np\n",
    "import pandas as pd\n",
    "import tqdm\n",
    "import selfies as sf\n",
    "from rdkit import Chem\n",
    "\n",
    "SCORING_LIB_PATH = os.path.join('/Data1', 'sungmin', 'mo_vq', 'props')\n",
    "if SCORING_LIB_PATH not in sys.path:\n",
    "    sys.path = [SCORING_LIB_PATH] + sys.path\n",
    "    \n",
    "from properties import similarity, drd2, qed"
   ]
  },
  {
   "cell_type": "code",
   "execution_count": 2,
   "id": "79fea20d",
   "metadata": {},
   "outputs": [],
   "source": [
    "class CONFIGS:\n",
    "    HOME_PATH = os.path.join('/Data1', 'sungmin', 'fairseq')\n",
    "    DATA_TYPE = \"qed\"\n",
    "    TOKEN_TYPE = \"frag\"\n",
    "    NUM_IDX = 5\n",
    "    \n",
    "    FILE_NAME = 'drd2_{NUM}.csv' if DATA_TYPE == 'drd2' else 'qed_v{NUM}.csv'\n",
    "    \n",
    "    OUTPUT_DIR = 'outputs_1_evaluate_property_similarity_scores'\n",
    "    if not os.path.exists(OUTPUT_DIR):\n",
    "        os.mkdir(OUTPUT_DIR)\n",
    "    OUTPUT_DIR = os.path.join(OUTPUT_DIR, DATA_TYPE)\n",
    "    if not os.path.exists(OUTPUT_DIR):\n",
    "        os.mkdir(OUTPUT_DIR)\n",
    "    \n",
    "configs = CONFIGS()"
   ]
  },
  {
   "cell_type": "code",
   "execution_count": 3,
   "id": "1e10716e",
   "metadata": {},
   "outputs": [],
   "source": [
    "calc_prop = drd2 if configs.DATA_TYPE == 'drd2' else qed"
   ]
  },
  {
   "cell_type": "markdown",
   "id": "7d774999",
   "metadata": {},
   "source": [
    "## Generated molecules"
   ]
  },
  {
   "cell_type": "code",
   "execution_count": 4,
   "id": "31a924e6",
   "metadata": {},
   "outputs": [],
   "source": [
    "def get_canonical(sel):\n",
    "    return Chem.CanonSmiles(sf.decoder(sel))"
   ]
  },
  {
   "cell_type": "code",
   "execution_count": 5,
   "id": "2b1ecea0",
   "metadata": {
    "scrolled": true
   },
   "outputs": [
    {
     "name": "stderr",
     "output_type": "stream",
     "text": [
      "100%|██████████████████████████████████████████████████████████████████████████████████████████████████████████████████████████████████████████████████████████████████████████████████████████████████| 5/5 [01:26<00:00, 17.34s/it]\n"
     ]
    }
   ],
   "source": [
    "frames_generated = []\n",
    "for i in tqdm.trange(configs.NUM_IDX):\n",
    "    filepath_generated = os.path.join(configs.HOME_PATH, 'fairseq_cli', 'result', configs.FILE_NAME)\n",
    "    df_generated = pd.read_csv(filepath_generated.format(NUM=i+1), index_col=0)\n",
    "    df_generated.loc[:,'SELFIES_ori'] = df_generated.loc[:,'original'].map(lambda x:x.replace(' ',''))\n",
    "    df_generated.loc[:,'SELFIES_opt'] = df_generated.loc[:,'optimized'].map(lambda x:x.replace(' ',''))\n",
    "    df_generated.loc[:,'SELFIES_tar'] = df_generated.loc[:,'target'].map(lambda x:x.replace(' ',''))\n",
    "    df_generated.loc[:,'SMILES_ori'] = df_generated.loc[:,'SELFIES_ori'].map(get_canonical)\n",
    "    df_generated.loc[:,'SMILES_opt'] = df_generated.loc[:,'SELFIES_opt'].map(get_canonical)\n",
    "    df_generated.loc[:,'SMILES_tar'] = df_generated.loc[:,'SELFIES_tar'].map(get_canonical)\n",
    "    frames_generated.append(df_generated)"
   ]
  },
  {
   "cell_type": "code",
   "execution_count": 6,
   "id": "50e0eb21",
   "metadata": {
    "scrolled": true
   },
   "outputs": [
    {
     "data": {
      "text/html": [
       "<div>\n",
       "<style scoped>\n",
       "    .dataframe tbody tr th:only-of-type {\n",
       "        vertical-align: middle;\n",
       "    }\n",
       "\n",
       "    .dataframe tbody tr th {\n",
       "        vertical-align: top;\n",
       "    }\n",
       "\n",
       "    .dataframe thead th {\n",
       "        text-align: right;\n",
       "    }\n",
       "</style>\n",
       "<table border=\"1\" class=\"dataframe\">\n",
       "  <thead>\n",
       "    <tr style=\"text-align: right;\">\n",
       "      <th></th>\n",
       "      <th>original</th>\n",
       "      <th>optimized</th>\n",
       "      <th>target</th>\n",
       "      <th>SELFIES_ori</th>\n",
       "      <th>SELFIES_opt</th>\n",
       "      <th>SELFIES_tar</th>\n",
       "      <th>SMILES_ori</th>\n",
       "      <th>SMILES_opt</th>\n",
       "      <th>SMILES_tar</th>\n",
       "    </tr>\n",
       "  </thead>\n",
       "  <tbody>\n",
       "    <tr>\n",
       "      <th>0</th>\n",
       "      <td>[N][C] [C][C][N][Branch1][#Branch2][C][C][N][R...</td>\n",
       "      <td>[N][C] [C][C][N][Branch1][#Branch2][C][C][N][R...</td>\n",
       "      <td>[N][C] [C][C][N][Branch1][#Branch2][C][C][N][R...</td>\n",
       "      <td>[N][C][C][C][N][Branch1][#Branch2][C][C][N][Ri...</td>\n",
       "      <td>[N][C][C][C][N][Branch1][#Branch2][C][C][N][Ri...</td>\n",
       "      <td>[N][C][C][C][N][Branch1][#Branch2][C][C][N][Ri...</td>\n",
       "      <td>CC[NH2+]Cc1c(C)nn(C)c1N1CCN2C(=O)NCC2C1</td>\n",
       "      <td>COc1cc(C)c(CN2CCN3C(=O)NCC3C2)cc1OC</td>\n",
       "      <td>COc1cc(C)c(CN2CCN3C(=O)NCC3C2)cc1OC</td>\n",
       "    </tr>\n",
       "    <tr>\n",
       "      <th>1</th>\n",
       "      <td>[C] [Branch1][=Branch2][NH2+1][C][C][S][Branch...</td>\n",
       "      <td>[C] [Branch1][P][C][C][O][C][Branch1][Ring2][C...</td>\n",
       "      <td>[C] [Branch1][P][C][C][O][C][Branch1][Ring2][C...</td>\n",
       "      <td>[C][Branch1][=Branch2][NH2+1][C][C][S][Branch1...</td>\n",
       "      <td>[C][Branch1][P][C][C][O][C][Branch1][Ring2][C]...</td>\n",
       "      <td>[C][Branch1][P][C][C][O][C][Branch1][Ring2][C]...</td>\n",
       "      <td>CS(=O)CC[NH2+]CC=Cc1ccc(C#N)cc1</td>\n",
       "      <td>N#Cc1ccc(C=CC[NH2+]C2CCOC3(CCCCC3)C2)cc1</td>\n",
       "      <td>N#Cc1ccc(C=CC[NH2+]C2CCOC3(CCCCC3)C2)cc1</td>\n",
       "    </tr>\n",
       "    <tr>\n",
       "      <th>2</th>\n",
       "      <td>[C][Branch1][=Branch2][O][C][C][NH1+1][Branch1...</td>\n",
       "      <td>[C][=C][C][=Branch1][#C][=C][C][=C][Ring1][=Br...</td>\n",
       "      <td>[C][=C][C][=Branch1][#C][=C][C][=C][Ring1][=Br...</td>\n",
       "      <td>[C][Branch1][=Branch2][O][C][C][NH1+1][Branch1...</td>\n",
       "      <td>[C][=C][C][=Branch1][#C][=C][C][=C][Ring1][=Br...</td>\n",
       "      <td>[C][=C][C][=Branch1][#C][=C][C][=C][Ring1][=Br...</td>\n",
       "      <td>C[NH+](C)CCOc1ccc(CNC(=O)C2COc3ccc(F)cc3C2)cc1</td>\n",
       "      <td>O=C(NCc1ccc(OC(F)(F)F)cc1)C1COc2ccccc2C1</td>\n",
       "      <td>O=C(NCc1ccc(OC(F)(F)F)cc1)C1COc2ccccc2C1</td>\n",
       "    </tr>\n",
       "    <tr>\n",
       "      <th>3</th>\n",
       "      <td>[C][Branch1][Ring1][C][#N][Branch1][#Branch1][...</td>\n",
       "      <td>[C][Branch1][Ring1][C][#N][Branch1][#Branch1][...</td>\n",
       "      <td>[C][Branch1][Ring1][C][#N][Branch1][#Branch1][...</td>\n",
       "      <td>[C][Branch1][Ring1][C][#N][Branch1][#Branch1][...</td>\n",
       "      <td>[C][Branch1][Ring1][C][#N][Branch1][#Branch1][...</td>\n",
       "      <td>[C][Branch1][Ring1][C][#N][Branch1][#Branch1][...</td>\n",
       "      <td>CC1CCC(O)(C2(C#N)CCOC2)CC1C</td>\n",
       "      <td>N#CC1(C(O)c2cc(Cl)cc(Cl)c2)CCOC1</td>\n",
       "      <td>N#CC1(C(O)c2cc(Cl)cc(Cl)c2)CCOC1</td>\n",
       "    </tr>\n",
       "    <tr>\n",
       "      <th>4</th>\n",
       "      <td>[C][C][=Branch1][C][=O][N][Branch1][C][C][C][C...</td>\n",
       "      <td>[C][C][Branch1][#Branch2][C][C][=Branch1][C][=...</td>\n",
       "      <td>[C][C][Branch1][#Branch2][C][C][=Branch1][C][=...</td>\n",
       "      <td>[C][C][=Branch1][C][=O][N][Branch1][C][C][C][C...</td>\n",
       "      <td>[C][C][Branch1][#Branch2][C][C][=Branch1][C][=...</td>\n",
       "      <td>[C][C][Branch1][#Branch2][C][C][=Branch1][C][=...</td>\n",
       "      <td>COc1cc(C(=O)NC2CC(=O)N(C)C2)nc(OC)n1</td>\n",
       "      <td>CN1CC(NC(=O)c2ccc(F)c(Br)c2)CC1=O</td>\n",
       "      <td>CN1CC(NC(=O)c2ccc(F)c(Br)c2)CC1=O</td>\n",
       "    </tr>\n",
       "    <tr>\n",
       "      <th>...</th>\n",
       "      <td>...</td>\n",
       "      <td>...</td>\n",
       "      <td>...</td>\n",
       "      <td>...</td>\n",
       "      <td>...</td>\n",
       "      <td>...</td>\n",
       "      <td>...</td>\n",
       "      <td>...</td>\n",
       "      <td>...</td>\n",
       "    </tr>\n",
       "    <tr>\n",
       "      <th>15995</th>\n",
       "      <td>[C][=C] [Branch1][C][Cl] [C][=C] [Branch1][C][...</td>\n",
       "      <td>[C][=C] [Branch1][C][Cl] [C][=C] [Branch1][C][...</td>\n",
       "      <td>[C][=C] [Branch1][C][Cl] [C][=C] [Branch1][C][...</td>\n",
       "      <td>[C][=C][Branch1][C][Cl][C][=C][Branch1][C][F][...</td>\n",
       "      <td>[C][=C][Branch1][C][Cl][C][=C][Branch1][C][F][...</td>\n",
       "      <td>[C][=C][Branch1][C][Cl][C][=C][Branch1][C][F][...</td>\n",
       "      <td>O=C(CCCn1c(=O)oc2ccccc21)Nc1ccc(Cl)cc1F</td>\n",
       "      <td>CC1Cc2ccccc2N1CC(=O)Nc1ccc(Cl)cc1F</td>\n",
       "      <td>CC1Cc2ccccc2N1CC(=O)Nc1ccc(Cl)cc1F</td>\n",
       "    </tr>\n",
       "    <tr>\n",
       "      <th>15996</th>\n",
       "      <td>[C][C][C] [Branch1][N] [C][=C][C][=C][Branch1]...</td>\n",
       "      <td>[C][=C][C][Branch1][C][C][=C][C][=C][Ring1][#B...</td>\n",
       "      <td>[C][=C][C][Branch1][C][C][=C][C][=C][Ring1][#B...</td>\n",
       "      <td>[C][C][C][Branch1][N][C][=C][C][=C][Branch1][C...</td>\n",
       "      <td>[C][=C][C][Branch1][C][C][=C][C][=C][Ring1][#B...</td>\n",
       "      <td>[C][=C][C][Branch1][C][C][=C][C][=C][Ring1][#B...</td>\n",
       "      <td>CCC(NC(=O)c1cccc(S(=O)(=O)NC(C)C)c1)c1ccc(C)cc1</td>\n",
       "      <td>Cc1ccc(-c2ccccc2NC(=O)Cn2cnnn2)cc1</td>\n",
       "      <td>CCC(NC(=O)c1cccc(S(C)(=O)=O)c1)c1ccc(C)cc1</td>\n",
       "    </tr>\n",
       "    <tr>\n",
       "      <th>15997</th>\n",
       "      <td>[C] [Branch1] [C][F][=C][C][Branch1][C][Br][=C...</td>\n",
       "      <td>[C] [=Branch1] [N][=C][C][Branch1][C][C][=C][C...</td>\n",
       "      <td>[C] [=Branch1] [N][=C][C][Branch1][C][C][=C][C...</td>\n",
       "      <td>[C][Branch1][C][F][=C][C][Branch1][C][Br][=C][...</td>\n",
       "      <td>[C][=Branch1][N][=C][C][Branch1][C][C][=C][C][...</td>\n",
       "      <td>[C][=Branch1][N][=C][C][Branch1][C][C][=C][C][...</td>\n",
       "      <td>Cc1ccccc1CS(=O)(=O)N1CCCC(C(=O)Nc2ccc(Br)cc2F)C1</td>\n",
       "      <td>Cc1ccc(F)c(NC(=O)C2CCCN(S(C)(=O)=O)C2)c1</td>\n",
       "      <td>Cc1ccc(F)c(NC(=O)C2CCCN(S(C)(=O)=O)C2)c1</td>\n",
       "    </tr>\n",
       "    <tr>\n",
       "      <th>15998</th>\n",
       "      <td>[S] [Branch1][C][C] [=Branch1][C][=O] [=Branch...</td>\n",
       "      <td>[C] [Branch1][C][C] [S] [=Branch1][C][=O] [=Br...</td>\n",
       "      <td>[C] [Branch1][C][C] [S] [=Branch1][C][=O] [=Br...</td>\n",
       "      <td>[S][Branch1][C][C][=Branch1][C][=O][=Branch1][...</td>\n",
       "      <td>[C][Branch1][C][C][S][=Branch1][C][=O][=Branch...</td>\n",
       "      <td>[C][Branch1][C][C][S][=Branch1][C][=O][=Branch...</td>\n",
       "      <td>C[NH+](C)C1CCC(NC(=O)c2ccc3c(c2)CCCN3S(C)(=O)=...</td>\n",
       "      <td>CCS(=O)(=O)N1CCCc2cc(C(=O)C3CC(c4nc(C)n[nH]4)C...</td>\n",
       "      <td>CCS(=O)(=O)N1CCCc2cc(C(=O)NC3CC3)ccc21</td>\n",
       "    </tr>\n",
       "    <tr>\n",
       "      <th>15999</th>\n",
       "      <td>[C] [=Branch1][C][=O] [Branch1][=Branch2][N] [...</td>\n",
       "      <td>[C] [Branch1][C][C] [C] [Branch1][C][C] [N][C]...</td>\n",
       "      <td>[C] [Branch1][C][C] [C] [Branch1][C][C] [N][C]...</td>\n",
       "      <td>[C][=Branch1][C][=O][Branch1][=Branch2][N][C][...</td>\n",
       "      <td>[C][Branch1][C][C][C][Branch1][C][C][N][C][=Br...</td>\n",
       "      <td>[C][Branch1][C][C][C][Branch1][C][C][N][C][=Br...</td>\n",
       "      <td>COc1ccc(N2CC(C(=O)NC(C)C(=O)NC3CCCC3)CC2=O)cc1</td>\n",
       "      <td>CCC(C)NC(=O)C1CC(=O)N(c2ccc(OC)cc2)C1</td>\n",
       "      <td>CCC(C)NC(=O)C1CC(=O)N(c2ccc(OC)cc2)C1</td>\n",
       "    </tr>\n",
       "  </tbody>\n",
       "</table>\n",
       "<p>16000 rows × 9 columns</p>\n",
       "</div>"
      ],
      "text/plain": [
       "                                                original  \\\n",
       "0      [N][C] [C][C][N][Branch1][#Branch2][C][C][N][R...   \n",
       "1      [C] [Branch1][=Branch2][NH2+1][C][C][S][Branch...   \n",
       "2      [C][Branch1][=Branch2][O][C][C][NH1+1][Branch1...   \n",
       "3      [C][Branch1][Ring1][C][#N][Branch1][#Branch1][...   \n",
       "4      [C][C][=Branch1][C][=O][N][Branch1][C][C][C][C...   \n",
       "...                                                  ...   \n",
       "15995  [C][=C] [Branch1][C][Cl] [C][=C] [Branch1][C][...   \n",
       "15996  [C][C][C] [Branch1][N] [C][=C][C][=C][Branch1]...   \n",
       "15997  [C] [Branch1] [C][F][=C][C][Branch1][C][Br][=C...   \n",
       "15998  [S] [Branch1][C][C] [=Branch1][C][=O] [=Branch...   \n",
       "15999  [C] [=Branch1][C][=O] [Branch1][=Branch2][N] [...   \n",
       "\n",
       "                                               optimized  \\\n",
       "0      [N][C] [C][C][N][Branch1][#Branch2][C][C][N][R...   \n",
       "1      [C] [Branch1][P][C][C][O][C][Branch1][Ring2][C...   \n",
       "2      [C][=C][C][=Branch1][#C][=C][C][=C][Ring1][=Br...   \n",
       "3      [C][Branch1][Ring1][C][#N][Branch1][#Branch1][...   \n",
       "4      [C][C][Branch1][#Branch2][C][C][=Branch1][C][=...   \n",
       "...                                                  ...   \n",
       "15995  [C][=C] [Branch1][C][Cl] [C][=C] [Branch1][C][...   \n",
       "15996  [C][=C][C][Branch1][C][C][=C][C][=C][Ring1][#B...   \n",
       "15997  [C] [=Branch1] [N][=C][C][Branch1][C][C][=C][C...   \n",
       "15998  [C] [Branch1][C][C] [S] [=Branch1][C][=O] [=Br...   \n",
       "15999  [C] [Branch1][C][C] [C] [Branch1][C][C] [N][C]...   \n",
       "\n",
       "                                                  target  \\\n",
       "0      [N][C] [C][C][N][Branch1][#Branch2][C][C][N][R...   \n",
       "1      [C] [Branch1][P][C][C][O][C][Branch1][Ring2][C...   \n",
       "2      [C][=C][C][=Branch1][#C][=C][C][=C][Ring1][=Br...   \n",
       "3      [C][Branch1][Ring1][C][#N][Branch1][#Branch1][...   \n",
       "4      [C][C][Branch1][#Branch2][C][C][=Branch1][C][=...   \n",
       "...                                                  ...   \n",
       "15995  [C][=C] [Branch1][C][Cl] [C][=C] [Branch1][C][...   \n",
       "15996  [C][=C][C][Branch1][C][C][=C][C][=C][Ring1][#B...   \n",
       "15997  [C] [=Branch1] [N][=C][C][Branch1][C][C][=C][C...   \n",
       "15998  [C] [Branch1][C][C] [S] [=Branch1][C][=O] [=Br...   \n",
       "15999  [C] [Branch1][C][C] [C] [Branch1][C][C] [N][C]...   \n",
       "\n",
       "                                             SELFIES_ori  \\\n",
       "0      [N][C][C][C][N][Branch1][#Branch2][C][C][N][Ri...   \n",
       "1      [C][Branch1][=Branch2][NH2+1][C][C][S][Branch1...   \n",
       "2      [C][Branch1][=Branch2][O][C][C][NH1+1][Branch1...   \n",
       "3      [C][Branch1][Ring1][C][#N][Branch1][#Branch1][...   \n",
       "4      [C][C][=Branch1][C][=O][N][Branch1][C][C][C][C...   \n",
       "...                                                  ...   \n",
       "15995  [C][=C][Branch1][C][Cl][C][=C][Branch1][C][F][...   \n",
       "15996  [C][C][C][Branch1][N][C][=C][C][=C][Branch1][C...   \n",
       "15997  [C][Branch1][C][F][=C][C][Branch1][C][Br][=C][...   \n",
       "15998  [S][Branch1][C][C][=Branch1][C][=O][=Branch1][...   \n",
       "15999  [C][=Branch1][C][=O][Branch1][=Branch2][N][C][...   \n",
       "\n",
       "                                             SELFIES_opt  \\\n",
       "0      [N][C][C][C][N][Branch1][#Branch2][C][C][N][Ri...   \n",
       "1      [C][Branch1][P][C][C][O][C][Branch1][Ring2][C]...   \n",
       "2      [C][=C][C][=Branch1][#C][=C][C][=C][Ring1][=Br...   \n",
       "3      [C][Branch1][Ring1][C][#N][Branch1][#Branch1][...   \n",
       "4      [C][C][Branch1][#Branch2][C][C][=Branch1][C][=...   \n",
       "...                                                  ...   \n",
       "15995  [C][=C][Branch1][C][Cl][C][=C][Branch1][C][F][...   \n",
       "15996  [C][=C][C][Branch1][C][C][=C][C][=C][Ring1][#B...   \n",
       "15997  [C][=Branch1][N][=C][C][Branch1][C][C][=C][C][...   \n",
       "15998  [C][Branch1][C][C][S][=Branch1][C][=O][=Branch...   \n",
       "15999  [C][Branch1][C][C][C][Branch1][C][C][N][C][=Br...   \n",
       "\n",
       "                                             SELFIES_tar  \\\n",
       "0      [N][C][C][C][N][Branch1][#Branch2][C][C][N][Ri...   \n",
       "1      [C][Branch1][P][C][C][O][C][Branch1][Ring2][C]...   \n",
       "2      [C][=C][C][=Branch1][#C][=C][C][=C][Ring1][=Br...   \n",
       "3      [C][Branch1][Ring1][C][#N][Branch1][#Branch1][...   \n",
       "4      [C][C][Branch1][#Branch2][C][C][=Branch1][C][=...   \n",
       "...                                                  ...   \n",
       "15995  [C][=C][Branch1][C][Cl][C][=C][Branch1][C][F][...   \n",
       "15996  [C][=C][C][Branch1][C][C][=C][C][=C][Ring1][#B...   \n",
       "15997  [C][=Branch1][N][=C][C][Branch1][C][C][=C][C][...   \n",
       "15998  [C][Branch1][C][C][S][=Branch1][C][=O][=Branch...   \n",
       "15999  [C][Branch1][C][C][C][Branch1][C][C][N][C][=Br...   \n",
       "\n",
       "                                              SMILES_ori  \\\n",
       "0                CC[NH2+]Cc1c(C)nn(C)c1N1CCN2C(=O)NCC2C1   \n",
       "1                        CS(=O)CC[NH2+]CC=Cc1ccc(C#N)cc1   \n",
       "2         C[NH+](C)CCOc1ccc(CNC(=O)C2COc3ccc(F)cc3C2)cc1   \n",
       "3                            CC1CCC(O)(C2(C#N)CCOC2)CC1C   \n",
       "4                   COc1cc(C(=O)NC2CC(=O)N(C)C2)nc(OC)n1   \n",
       "...                                                  ...   \n",
       "15995            O=C(CCCn1c(=O)oc2ccccc21)Nc1ccc(Cl)cc1F   \n",
       "15996    CCC(NC(=O)c1cccc(S(=O)(=O)NC(C)C)c1)c1ccc(C)cc1   \n",
       "15997   Cc1ccccc1CS(=O)(=O)N1CCCC(C(=O)Nc2ccc(Br)cc2F)C1   \n",
       "15998  C[NH+](C)C1CCC(NC(=O)c2ccc3c(c2)CCCN3S(C)(=O)=...   \n",
       "15999     COc1ccc(N2CC(C(=O)NC(C)C(=O)NC3CCCC3)CC2=O)cc1   \n",
       "\n",
       "                                              SMILES_opt  \\\n",
       "0                    COc1cc(C)c(CN2CCN3C(=O)NCC3C2)cc1OC   \n",
       "1               N#Cc1ccc(C=CC[NH2+]C2CCOC3(CCCCC3)C2)cc1   \n",
       "2               O=C(NCc1ccc(OC(F)(F)F)cc1)C1COc2ccccc2C1   \n",
       "3                       N#CC1(C(O)c2cc(Cl)cc(Cl)c2)CCOC1   \n",
       "4                      CN1CC(NC(=O)c2ccc(F)c(Br)c2)CC1=O   \n",
       "...                                                  ...   \n",
       "15995                 CC1Cc2ccccc2N1CC(=O)Nc1ccc(Cl)cc1F   \n",
       "15996                 Cc1ccc(-c2ccccc2NC(=O)Cn2cnnn2)cc1   \n",
       "15997           Cc1ccc(F)c(NC(=O)C2CCCN(S(C)(=O)=O)C2)c1   \n",
       "15998  CCS(=O)(=O)N1CCCc2cc(C(=O)C3CC(c4nc(C)n[nH]4)C...   \n",
       "15999              CCC(C)NC(=O)C1CC(=O)N(c2ccc(OC)cc2)C1   \n",
       "\n",
       "                                       SMILES_tar  \n",
       "0             COc1cc(C)c(CN2CCN3C(=O)NCC3C2)cc1OC  \n",
       "1        N#Cc1ccc(C=CC[NH2+]C2CCOC3(CCCCC3)C2)cc1  \n",
       "2        O=C(NCc1ccc(OC(F)(F)F)cc1)C1COc2ccccc2C1  \n",
       "3                N#CC1(C(O)c2cc(Cl)cc(Cl)c2)CCOC1  \n",
       "4               CN1CC(NC(=O)c2ccc(F)c(Br)c2)CC1=O  \n",
       "...                                           ...  \n",
       "15995          CC1Cc2ccccc2N1CC(=O)Nc1ccc(Cl)cc1F  \n",
       "15996  CCC(NC(=O)c1cccc(S(C)(=O)=O)c1)c1ccc(C)cc1  \n",
       "15997    Cc1ccc(F)c(NC(=O)C2CCCN(S(C)(=O)=O)C2)c1  \n",
       "15998      CCS(=O)(=O)N1CCCc2cc(C(=O)NC3CC3)ccc21  \n",
       "15999       CCC(C)NC(=O)C1CC(=O)N(c2ccc(OC)cc2)C1  \n",
       "\n",
       "[16000 rows x 9 columns]"
      ]
     },
     "execution_count": 6,
     "metadata": {},
     "output_type": "execute_result"
    }
   ],
   "source": [
    "frames_generated[0]"
   ]
  },
  {
   "cell_type": "markdown",
   "id": "27164b91",
   "metadata": {},
   "source": [
    "## Evaluate property and simiarity scores"
   ]
  },
  {
   "cell_type": "code",
   "execution_count": 7,
   "id": "411f26ca",
   "metadata": {
    "scrolled": true
   },
   "outputs": [
    {
     "name": "stdout",
     "output_type": "stream",
     "text": [
      "Now: 0\n"
     ]
    },
    {
     "name": "stderr",
     "output_type": "stream",
     "text": [
      "100%|████████████████████████████████████████████████████████████████████████████████████████████████████████████████████████████████████████████████████████████████████████████████████████| 16000/16000 [00:14<00:00, 1069.31it/s]\n",
      "100%|████████████████████████████████████████████████████████████████████████████████████████████████████████████████████████████████████████████████████████████████████████████████████████| 16000/16000 [00:04<00:00, 3585.61it/s]\n"
     ]
    },
    {
     "name": "stdout",
     "output_type": "stream",
     "text": [
      "Now: 1\n"
     ]
    },
    {
     "name": "stderr",
     "output_type": "stream",
     "text": [
      "100%|████████████████████████████████████████████████████████████████████████████████████████████████████████████████████████████████████████████████████████████████████████████████████████| 16000/16000 [00:14<00:00, 1079.62it/s]\n",
      "100%|████████████████████████████████████████████████████████████████████████████████████████████████████████████████████████████████████████████████████████████████████████████████████████| 16000/16000 [00:04<00:00, 3616.74it/s]\n"
     ]
    },
    {
     "name": "stdout",
     "output_type": "stream",
     "text": [
      "Now: 2\n"
     ]
    },
    {
     "name": "stderr",
     "output_type": "stream",
     "text": [
      "100%|████████████████████████████████████████████████████████████████████████████████████████████████████████████████████████████████████████████████████████████████████████████████████████| 16000/16000 [00:14<00:00, 1080.71it/s]\n",
      "100%|████████████████████████████████████████████████████████████████████████████████████████████████████████████████████████████████████████████████████████████████████████████████████████| 16000/16000 [00:04<00:00, 3621.06it/s]\n"
     ]
    },
    {
     "name": "stdout",
     "output_type": "stream",
     "text": [
      "Now: 3\n"
     ]
    },
    {
     "name": "stderr",
     "output_type": "stream",
     "text": [
      "100%|████████████████████████████████████████████████████████████████████████████████████████████████████████████████████████████████████████████████████████████████████████████████████████| 16000/16000 [00:14<00:00, 1069.49it/s]\n",
      "100%|████████████████████████████████████████████████████████████████████████████████████████████████████████████████████████████████████████████████████████████████████████████████████████| 16000/16000 [00:04<00:00, 3556.74it/s]\n"
     ]
    },
    {
     "name": "stdout",
     "output_type": "stream",
     "text": [
      "Now: 4\n"
     ]
    },
    {
     "name": "stderr",
     "output_type": "stream",
     "text": [
      "100%|████████████████████████████████████████████████████████████████████████████████████████████████████████████████████████████████████████████████████████████████████████████████████████| 16000/16000 [00:15<00:00, 1064.78it/s]\n",
      "100%|████████████████████████████████████████████████████████████████████████████████████████████████████████████████████████████████████████████████████████████████████████████████████████| 16000/16000 [00:04<00:00, 3651.42it/s]\n"
     ]
    }
   ],
   "source": [
    "frames_scoring = []\n",
    "for i, df_ in enumerate(frames_generated):\n",
    "    print(f'Now: {i}')\n",
    "    df = df_.copy()\n",
    "    \n",
    "    scores_prop = []\n",
    "    for smi_opt in tqdm.tqdm(df.loc[:,'SMILES_opt'].values, total=len(df)):\n",
    "        scores_prop.append(calc_prop(smi_opt))\n",
    "    \n",
    "    scores_sim = []\n",
    "    for smi_ori, smi_opt in tqdm.tqdm(df.loc[:,('SMILES_ori', 'SMILES_opt')].values, total=len(df)):\n",
    "        scores_sim.append(similarity(smi_ori, smi_opt))\n",
    "        \n",
    "    df.loc[:,'PROPERTY_opt'] = scores_prop\n",
    "    df.loc[:,'SIMILARITY_ori_opt'] = scores_sim\n",
    "    frames_scoring.append(df)"
   ]
  },
  {
   "cell_type": "code",
   "execution_count": 8,
   "id": "3cba2e76",
   "metadata": {},
   "outputs": [],
   "source": [
    "for i, df in enumerate(frames_scoring, start=1):\n",
    "    filepath = os.path.join(configs.OUTPUT_DIR, f'generated_edit_iter{i}.csv')\n",
    "    df.to_csv(filepath, index=False)"
   ]
  },
  {
   "cell_type": "code",
   "execution_count": null,
   "id": "801179ec",
   "metadata": {},
   "outputs": [],
   "source": []
  }
 ],
 "metadata": {
  "kernelspec": {
   "display_name": "Python 3 (ipykernel)",
   "language": "python",
   "name": "python3"
  },
  "language_info": {
   "codemirror_mode": {
    "name": "ipython",
    "version": 3
   },
   "file_extension": ".py",
   "mimetype": "text/x-python",
   "name": "python",
   "nbconvert_exporter": "python",
   "pygments_lexer": "ipython3",
   "version": "3.7.12"
  }
 },
 "nbformat": 4,
 "nbformat_minor": 5
}
