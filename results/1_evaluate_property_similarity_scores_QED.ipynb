{
 "cells": [
  {
   "cell_type": "code",
   "execution_count": 1,
   "id": "8842665a",
   "metadata": {},
   "outputs": [],
   "source": [
    "import os\n",
    "import sys\n",
    "import tqdm\n",
    "import pandas as pd\n",
    "import selfies as sf\n",
    "from rdkit import Chem\n",
    "\n",
    "HOME_PATH = os.path.abspath(os.path.join(os.getcwd(), os.pardir))\n",
    "SCORING_LIB_PATH = os.path.join(HOME_PATH, 'fairseq_mo', 'props')\n",
    "if SCORING_LIB_PATH not in sys.path:\n",
    "    sys.path = [SCORING_LIB_PATH] + sys.path\n",
    "    \n",
    "from properties import similarity, drd2, qed"
   ]
  },
  {
   "cell_type": "code",
   "execution_count": 2,
   "id": "79fea20d",
   "metadata": {},
   "outputs": [],
   "source": [
    "class CONFIGS:\n",
    "    DATA_TYPE = \"qed\"\n",
    "    NUM_IDX = 5\n",
    "    \n",
    "    FILE_DIR = \"iter_{NUM}\"\n",
    "    \n",
    "    OUTPUT_DIR = os.path.join(os.getcwd(), 'analysis')\n",
    "    if not os.path.exists(OUTPUT_DIR):\n",
    "        os.mkdir(OUTPUT_DIR)\n",
    "    OUTPUT_DIR = os.path.join(OUTPUT_DIR, 'outputs_1_evaluate_property_similarity_scores', DATA_TYPE)\n",
    "    if not os.path.exists(OUTPUT_DIR):\n",
    "        os.mkdir(OUTPUT_DIR)\n",
    "    \n",
    "configs = CONFIGS()"
   ]
  },
  {
   "cell_type": "code",
   "execution_count": 3,
   "id": "1e10716e",
   "metadata": {},
   "outputs": [],
   "source": [
    "calc_prop = drd2 if configs.DATA_TYPE == 'drd2' else qed"
   ]
  },
  {
   "cell_type": "markdown",
   "id": "7d774999",
   "metadata": {},
   "source": [
    "## Generated molecules"
   ]
  },
  {
   "cell_type": "code",
   "execution_count": 4,
   "id": "31a924e6",
   "metadata": {},
   "outputs": [],
   "source": [
    "def get_canonical(sel):\n",
    "    return Chem.CanonSmiles(sf.decoder(sel))"
   ]
  },
  {
   "cell_type": "code",
   "execution_count": 5,
   "id": "2b1ecea0",
   "metadata": {
    "scrolled": true
   },
   "outputs": [
    {
     "name": "stderr",
     "output_type": "stream",
     "text": [
      "100%|██████████████████████████████████████████████████████████████████████████████| 5/5 [01:00<00:00, 12.01s/it]\n"
     ]
    }
   ],
   "source": [
    "frames_generated = []\n",
    "for i in tqdm.trange(configs.NUM_IDX):\n",
    "    filepath_generated = os.path.join(HOME_PATH, 'results', configs.DATA_TYPE, configs.FILE_DIR, \"generate-test.txt\")\n",
    "    file = open(filepath_generated.format(NUM=i+1), 'r')\n",
    "    lines = file.readlines()\n",
    "    original_selfies = []\n",
    "    original_smiles = []\n",
    "    optimized_selfies = []\n",
    "    optimized_smiles = []\n",
    "    for line in lines:\n",
    "        split_line = line.split()\n",
    "        index = split_line[0]\n",
    "        if 'S' in index:\n",
    "            content = ''.join(split_line[1:])\n",
    "            original_selfies.append(content)\n",
    "            original_smiles.append(get_canonical(content))\n",
    "        elif 'H' in index:\n",
    "            content = ''.join(split_line[2:]).replace(\"<unk>\", \"\")\n",
    "            optimized_selfies.append(content)\n",
    "            optimized_smiles.append(get_canonical(content))\n",
    "        else:\n",
    "            continue\n",
    "    df_generated = pd.DataFrame(\n",
    "        zip(original_selfies, optimized_selfies, original_smiles, optimized_smiles), \n",
    "        columns=[\"SELFIES_ori\", \"SELFIES_opt\", \"SMILES_ori\", \"SMILES_opt\"]\n",
    "    )\n",
    "    frames_generated.append(df_generated)"
   ]
  },
  {
   "cell_type": "markdown",
   "id": "27164b91",
   "metadata": {},
   "source": [
    "## Evaluate property and simiarity scores"
   ]
  },
  {
   "cell_type": "code",
   "execution_count": 6,
   "id": "411f26ca",
   "metadata": {
    "scrolled": false
   },
   "outputs": [
    {
     "name": "stdout",
     "output_type": "stream",
     "text": [
      "Now: 0\n"
     ]
    },
    {
     "name": "stderr",
     "output_type": "stream",
     "text": [
      "100%|████████████████████████████████████████████████████████████████████| 16000/16000 [00:14<00:00, 1066.85it/s]\n",
      "100%|████████████████████████████████████████████████████████████████████| 16000/16000 [00:04<00:00, 3716.27it/s]\n"
     ]
    },
    {
     "name": "stdout",
     "output_type": "stream",
     "text": [
      "Now: 1\n"
     ]
    },
    {
     "name": "stderr",
     "output_type": "stream",
     "text": [
      "100%|████████████████████████████████████████████████████████████████████| 16000/16000 [00:14<00:00, 1073.97it/s]\n",
      "100%|████████████████████████████████████████████████████████████████████| 16000/16000 [00:04<00:00, 3718.35it/s]\n"
     ]
    },
    {
     "name": "stdout",
     "output_type": "stream",
     "text": [
      "Now: 2\n"
     ]
    },
    {
     "name": "stderr",
     "output_type": "stream",
     "text": [
      "100%|████████████████████████████████████████████████████████████████████| 16000/16000 [00:14<00:00, 1070.26it/s]\n",
      "100%|████████████████████████████████████████████████████████████████████| 16000/16000 [00:04<00:00, 3720.48it/s]\n"
     ]
    },
    {
     "name": "stdout",
     "output_type": "stream",
     "text": [
      "Now: 3\n"
     ]
    },
    {
     "name": "stderr",
     "output_type": "stream",
     "text": [
      "100%|████████████████████████████████████████████████████████████████████| 16000/16000 [00:14<00:00, 1069.33it/s]\n",
      "100%|████████████████████████████████████████████████████████████████████| 16000/16000 [00:04<00:00, 3718.89it/s]\n"
     ]
    },
    {
     "name": "stdout",
     "output_type": "stream",
     "text": [
      "Now: 4\n"
     ]
    },
    {
     "name": "stderr",
     "output_type": "stream",
     "text": [
      "100%|████████████████████████████████████████████████████████████████████| 16000/16000 [00:14<00:00, 1069.72it/s]\n",
      "100%|████████████████████████████████████████████████████████████████████| 16000/16000 [00:04<00:00, 3724.20it/s]\n"
     ]
    }
   ],
   "source": [
    "frames_scoring = []\n",
    "for i, df_ in enumerate(frames_generated):\n",
    "    print(f'Now: {i}')\n",
    "    df = df_.copy()\n",
    "    \n",
    "    scores_prop = []\n",
    "    for smi_opt in tqdm.tqdm(df.loc[:,'SMILES_opt'].values, total=len(df)):\n",
    "        scores_prop.append(calc_prop(smi_opt))\n",
    "    \n",
    "    scores_sim = []\n",
    "    for smi_ori, smi_opt in tqdm.tqdm(df.loc[:,('SMILES_ori', 'SMILES_opt')].values, total=len(df)):\n",
    "        scores_sim.append(similarity(smi_ori, smi_opt))\n",
    "        \n",
    "    df.loc[:,'PROPERTY_opt'] = scores_prop\n",
    "    df.loc[:,'SIMILARITY_ori_opt'] = scores_sim\n",
    "    frames_scoring.append(df)"
   ]
  },
  {
   "cell_type": "code",
   "execution_count": 7,
   "id": "3cba2e76",
   "metadata": {},
   "outputs": [],
   "source": [
    "for i, df in enumerate(frames_scoring, start=1):\n",
    "    filepath = os.path.join(configs.OUTPUT_DIR, f'generated_edit_iter{i}.csv')\n",
    "    df.to_csv(filepath, index=False)"
   ]
  },
  {
   "cell_type": "code",
   "execution_count": null,
   "id": "5f241ab0",
   "metadata": {},
   "outputs": [],
   "source": []
  }
 ],
 "metadata": {
  "kernelspec": {
   "display_name": "Python 3 (ipykernel)",
   "language": "python",
   "name": "python3"
  },
  "language_info": {
   "codemirror_mode": {
    "name": "ipython",
    "version": 3
   },
   "file_extension": ".py",
   "mimetype": "text/x-python",
   "name": "python",
   "nbconvert_exporter": "python",
   "pygments_lexer": "ipython3",
   "version": "3.7.12"
  }
 },
 "nbformat": 4,
 "nbformat_minor": 5
}
