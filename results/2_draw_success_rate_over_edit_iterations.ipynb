{
 "cells": [
  {
   "cell_type": "code",
   "execution_count": 1,
   "id": "8842665a",
   "metadata": {},
   "outputs": [],
   "source": [
    "import os\n",
    "import sys\n",
    "import numpy as np\n",
    "import pandas as pd\n",
    "import tqdm\n",
    "import seaborn as sns\n",
    "import selfies as sf\n",
    "import matplotlib.pyplot as plt\n",
    "import matplotlib"
   ]
  },
  {
   "cell_type": "code",
   "execution_count": 2,
   "id": "79fea20d",
   "metadata": {},
   "outputs": [],
   "source": [
    "class CONFIGS:\n",
    "    def __init__(self):\n",
    "        self.NUM_IDX = 5\n",
    "\n",
    "        self.INPUT_DIR = 'outputs_1_evaluate_property_similarity_scores'\n",
    "        self.OUTPUT_DIR = 'outputs_2_draw_success_rate_over_edit_iterations'\n",
    "        if not os.path.exists(self.OUTPUT_DIR):\n",
    "            os.mkdir(self.OUTPUT_DIR)\n",
    "    \n",
    "configs = CONFIGS()"
   ]
  },
  {
   "cell_type": "markdown",
   "id": "8e594a08",
   "metadata": {},
   "source": [
    "## Generated molecules"
   ]
  },
  {
   "cell_type": "code",
   "execution_count": 3,
   "id": "873a68c2",
   "metadata": {
    "scrolled": true
   },
   "outputs": [],
   "source": [
    "def read_frames(configs, DATA_TYPE):\n",
    "    frames = []\n",
    "    for i in tqdm.trange(configs.NUM_IDX):\n",
    "        filepath_generated = os.path.join(configs.INPUT_DIR, DATA_TYPE, f'generated_edit_iter{i+1}.csv')\n",
    "        df = pd.read_csv(filepath_generated)\n",
    "        frames.append(df)\n",
    "    return frames"
   ]
  },
  {
   "cell_type": "code",
   "execution_count": 4,
   "id": "a489d775",
   "metadata": {
    "scrolled": true
   },
   "outputs": [
    {
     "name": "stderr",
     "output_type": "stream",
     "text": [
      "100%|████████████████████████████████████████████████████████████████████████████████████████████████████████████████████████████████████████████████████████████████████| 5/5 [00:00<00:00,  8.65it/s]\n",
      "100%|████████████████████████████████████████████████████████████████████████████████████████████████████████████████████████████████████████████████████████████████████| 5/5 [00:00<00:00,  6.58it/s]\n"
     ]
    }
   ],
   "source": [
    "frames_qed = read_frames(configs, 'qed')\n",
    "frames_drd2 = read_frames(configs, 'drd2')"
   ]
  },
  {
   "cell_type": "code",
   "execution_count": 5,
   "id": "c5fba71a",
   "metadata": {},
   "outputs": [],
   "source": [
    "eval_config = {\n",
    "    'qed':{'low_bound':0.9, 'sim':0.4, 'k_num':20},\n",
    "    'drd2':{'low_bound':0.5, 'sim':0.4, 'k_num':20},\n",
    "}"
   ]
  },
  {
   "cell_type": "code",
   "execution_count": 6,
   "id": "14e0e08b",
   "metadata": {},
   "outputs": [],
   "source": [
    "def calculate_success(eval_config, df_opt):\n",
    "    df = df_opt.copy()\n",
    "    \n",
    "    assert len(df) == len(df.drop_duplicates(subset=('SMILES_ori',))) * eval_config['k_num']\n",
    "    \n",
    "    df.loc[:,'QUALIFIED_PROP'] = df.loc[:,'PROPERTY_opt'] > eval_config['low_bound'] - 1e-8\n",
    "    df.loc[:,'QUALIFIED_SIM'] = df.loc[:,'SIMILARITY_ori_opt'] > eval_config['sim'] - 1e-8\n",
    "    df.loc[:,'QUALIFIED'] = df.loc[:,'QUALIFIED_PROP'] & df.loc[:,'QUALIFIED_SIM']\n",
    "    \n",
    "    df = df.loc[:,('SMILES_ori', 'QUALIFIED')].groupby(by='SMILES_ori').sum().reset_index(drop=True)\n",
    "    \n",
    "    return (df.loc[:,'QUALIFIED'] > 0).mean()"
   ]
  },
  {
   "cell_type": "code",
   "execution_count": 7,
   "id": "13bcf645",
   "metadata": {},
   "outputs": [],
   "source": [
    "success_rates_qed = [calculate_success(eval_config['qed'], df) for df in frames_qed]\n",
    "success_rates_drd2 = [calculate_success(eval_config['drd2'], df) for df in frames_drd2]"
   ]
  },
  {
   "cell_type": "markdown",
   "id": "5c4bbafe",
   "metadata": {},
   "source": [
    "# Draw plot"
   ]
  },
  {
   "cell_type": "code",
   "execution_count": 53,
   "id": "801179ec",
   "metadata": {},
   "outputs": [
    {
     "data": {
      "image/png": "[encoded data removed]",
      "text/plain": [
       "<Figure size 450x400 with 2 Axes>"
      ]
     },
     "metadata": {},
     "output_type": "display_data"
    }
   ],
   "source": [
    "sns.set_theme(style='whitegrid')\n",
    "\n",
    "fig, ax = plt.subplots(2,1,figsize=(4.5,4))\n",
    "\n",
    "assert len(success_rates_qed) == len(success_rates_drd2)\n",
    "pos = range(1, len(success_rates_qed)+1)\n",
    "\n",
    "_ = sns.lineplot(\n",
    "    x=pos,\n",
    "    y=success_rates_qed,\n",
    "    marker='o',\n",
    "    ax=ax[0],\n",
    ")\n",
    "\n",
    "_ = sns.lineplot(\n",
    "    x=pos,\n",
    "    y=success_rates_drd2,\n",
    "    marker='o',\n",
    "    ax=ax[1],\n",
    ")\n",
    "\n",
    "#ylim = [(0.571, 0.599),\n",
    "ylim = [(0.32, 0.68),\n",
    "        (0.52, 0.88)]\n",
    "\n",
    "for i in range(2):\n",
    "    ax[i].set_xticks(pos)\n",
    "    ax[i].set_xlabel('Number of Edit iterations')\n",
    "    ax[i].set_ylabel('Success')\n",
    "    ax[i].set_ylim(*ylim[i])\n",
    "\n",
    "plt.tight_layout()\n",
    "#plt.show()\n",
    "plt.savefig(os.path.join(configs.OUTPUT_DIR, 'lineplots_qed_drd2.png'), dpi=300)"
   ]
  },
  {
   "cell_type": "code",
   "execution_count": null,
   "id": "814a0f4c",
   "metadata": {},
   "outputs": [],
   "source": []
  }
 ],
 "metadata": {
  "kernelspec": {
   "display_name": "Python 3 (ipykernel)",
   "language": "python",
   "name": "python3"
  },
  "language_info": {
   "codemirror_mode": {
    "name": "ipython",
    "version": 3
   },
   "file_extension": ".py",
   "mimetype": "text/x-python",
   "name": "python",
   "nbconvert_exporter": "python",
   "pygments_lexer": "ipython3",
   "version": "3.7.12"
  }
 },
 "nbformat": 4,
 "nbformat_minor": 5
}
