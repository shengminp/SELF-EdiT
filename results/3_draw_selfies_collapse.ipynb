{
 "cells": [
  {
   "cell_type": "code",
   "execution_count": 1,
   "id": "8842665a",
   "metadata": {},
   "outputs": [],
   "source": [
    "import os\n",
    "import sys\n",
    "import pandas as pd\n",
    "import textdistance\n",
    "import tqdm\n",
    "import seaborn as sns\n",
    "import selfies as sf\n",
    "import matplotlib.pyplot as plt\\"
   ]
  },
  {
   "cell_type": "code",
   "execution_count": 2,
   "id": "79fea20d",
   "metadata": {},
   "outputs": [],
   "source": [
    "class CONFIGS:\n",
    "    def __init__(self):\n",
    "        self.NUM_IDX = 5\n",
    "        self.INPUT_DIR = {\n",
    "            'stoned':os.path.join('stoned'),\n",
    "            'selfedit':os.path.join('analysis', 'outputs_1_evaluate_property_similarity_scores')\n",
    "        }\n",
    "        self.OUTPUT_DIR = os.path.join('analysis', 'outputs_3_draw_selfies_collapse')\n",
    "        if not os.path.exists(self.OUTPUT_DIR):\n",
    "            os.mkdir(self.OUTPUT_DIR)\n",
    "    \n",
    "configs = CONFIGS()"
   ]
  },
  {
   "cell_type": "markdown",
   "id": "cbe5aed2",
   "metadata": {},
   "source": [
    "## Generated molecules"
   ]
  },
  {
   "cell_type": "code",
   "execution_count": 3,
   "id": "8a937f2e",
   "metadata": {},
   "outputs": [],
   "source": [
    "df_stoned_qed = pd.read_pickle(os.path.join(configs.INPUT_DIR['stoned'], 'stoned_{}_top_sel.pkl'.format('qed'))).reset_index(drop=True)\n",
    "df_stoned_drd2 = pd.read_pickle(os.path.join(configs.INPUT_DIR['stoned'], 'stoned_{}_top_sel.pkl'.format('drd2'))).reset_index(drop=True)"
   ]
  },
  {
   "cell_type": "code",
   "execution_count": 4,
   "id": "91b9c818",
   "metadata": {},
   "outputs": [],
   "source": [
    "df_selfedit_qed = pd.read_csv(os.path.join(configs.INPUT_DIR['selfedit'], 'qed', 'generated_edit_iter{}.csv'.format(2)))\n",
    "df_selfedit_drd2 = pd.read_csv(os.path.join(configs.INPUT_DIR['selfedit'], 'drd2', 'generated_edit_iter{}.csv'.format(2)))"
   ]
  },
  {
   "cell_type": "code",
   "execution_count": 5,
   "id": "0811d809",
   "metadata": {},
   "outputs": [],
   "source": [
    "selfies_ctrl_qed = df_stoned_qed.loc[:,'selfies'].values.tolist()\n",
    "selfies_ctrl_drd2 = df_stoned_drd2.loc[:,'selfies'].values.tolist()"
   ]
  },
  {
   "cell_type": "code",
   "execution_count": 6,
   "id": "20377473",
   "metadata": {},
   "outputs": [],
   "source": [
    "selfies_test_qed = df_selfedit_qed.loc[:,'SELFIES_opt'].values.tolist()\n",
    "selfies_test_drd2 = df_selfedit_drd2.loc[:,'SELFIES_opt'].values.tolist()"
   ]
  },
  {
   "cell_type": "markdown",
   "id": "8e594a08",
   "metadata": {},
   "source": [
    "## Levenshtein distance "
   ]
  },
  {
   "cell_type": "code",
   "execution_count": 7,
   "id": "4a237ebf",
   "metadata": {},
   "outputs": [],
   "source": [
    "def calc_lev_score(sel):\n",
    "    rec = sf.encoder(sf.decoder(sel))\n",
    "    \n",
    "    sel_tokens = list(sf.split_selfies(sel))\n",
    "    rec_tokens = list(sf.split_selfies(rec))\n",
    "    \n",
    "    return textdistance.levenshtein.distance(sel_tokens, rec_tokens)"
   ]
  },
  {
   "cell_type": "code",
   "execution_count": 20,
   "id": "d03efb09",
   "metadata": {},
   "outputs": [],
   "source": [
    "def make_lev_dataframe(selfies_ctrl, selfies_test, labels={'ctrl':'STONED', 'test':'SELF-EdiT'}):\n",
    "    df_ctrl = pd.Series(selfies_ctrl, name='SELFIES').to_frame()\n",
    "    for i in tqdm.trange(len(df_ctrl)):\n",
    "        df_ctrl.loc[i,'Levenshtein Distance'] = calc_lev_score(df_ctrl.loc[i,'SELFIES'])\n",
    "        df_ctrl.loc[i,'Levenshtein Distance'] = df_ctrl.loc[i,'Levenshtein Distance'].astype(int)\n",
    "    df_ctrl.loc[:,'Collapse Rates'] = f\"{labels['ctrl']} ({(df_ctrl.loc[:,'Levenshtein Distance'] > 0).value_counts()[True] / len(df_ctrl):.3f})\"\n",
    "    \n",
    "    df_test = pd.Series(selfies_test, name='SELFIES').to_frame()\n",
    "    for i in tqdm.trange(len(df_test)):\n",
    "        df_test.loc[i,'Levenshtein Distance'] = calc_lev_score(df_test.loc[i,'SELFIES'])\n",
    "        df_test.loc[i,'Levenshtein Distance'] = df_test.loc[i,'Levenshtein Distance'].astype(int)\n",
    "    df_test.loc[:,'Collapse Rates'] = f\"{labels['test']} ({(df_test.loc[:,'Levenshtein Distance'] > 0).value_counts()[True] / len(df_test):.3f})\"\n",
    "    \n",
    "    return pd.concat((df_test, df_ctrl), ignore_index=True) "
   ]
  },
  {
   "cell_type": "code",
   "execution_count": 21,
   "id": "92dc7629",
   "metadata": {},
   "outputs": [
    {
     "name": "stderr",
     "output_type": "stream",
     "text": [
      "100%|█████████████████████████████████████████████████████████████████████████████████████████████████████████████████████████████████████████████████████████████████████████████████████████████| 16000/16000 [00:43<00:00, 363.70it/s]\n",
      "100%|█████████████████████████████████████████████████████████████████████████████████████████████████████████████████████████████████████████████████████████████████████████████████████████████| 16000/16000 [00:17<00:00, 901.48it/s]\n",
      "100%|█████████████████████████████████████████████████████████████████████████████████████████████████████████████████████████████████████████████████████████████████████████████████████████████| 20000/20000 [01:00<00:00, 329.10it/s]\n",
      "100%|█████████████████████████████████████████████████████████████████████████████████████████████████████████████████████████████████████████████████████████████████████████████████████████████| 20000/20000 [00:36<00:00, 546.67it/s]\n"
     ]
    }
   ],
   "source": [
    "df_qed = make_lev_dataframe(selfies_ctrl_qed, selfies_test_qed)\n",
    "df_drd2 = make_lev_dataframe(selfies_ctrl_drd2, selfies_test_drd2)"
   ]
  },
  {
   "cell_type": "markdown",
   "id": "5c4bbafe",
   "metadata": {},
   "source": [
    "# Draw plot"
   ]
  },
  {
   "cell_type": "code",
   "execution_count": 22,
   "id": "1a525b5b",
   "metadata": {},
   "outputs": [],
   "source": [
    "df_qed_nonzero = df_qed[(df_qed['Levenshtein Distance'] > 0) & (df_qed['Levenshtein Distance'] < 11)].reset_index(drop=True)\n",
    "df_drd2_nonzero = df_drd2[(df_drd2['Levenshtein Distance'] > 0) & (df_drd2['Levenshtein Distance'] < 11)].reset_index(drop=True)"
   ]
  },
  {
   "cell_type": "code",
   "execution_count": 23,
   "id": "8a1aeada",
   "metadata": {},
   "outputs": [
    {
     "data": {
      "text/html": [
       "<div>\n",
       "<style scoped>\n",
       "    .dataframe tbody tr th:only-of-type {\n",
       "        vertical-align: middle;\n",
       "    }\n",
       "\n",
       "    .dataframe tbody tr th {\n",
       "        vertical-align: top;\n",
       "    }\n",
       "\n",
       "    .dataframe thead th {\n",
       "        text-align: right;\n",
       "    }\n",
       "</style>\n",
       "<table border=\"1\" class=\"dataframe\">\n",
       "  <thead>\n",
       "    <tr style=\"text-align: right;\">\n",
       "      <th></th>\n",
       "      <th>SELFIES</th>\n",
       "      <th>Levenshtein Distance</th>\n",
       "      <th>Collapse Rates</th>\n",
       "    </tr>\n",
       "  </thead>\n",
       "  <tbody>\n",
       "    <tr>\n",
       "      <th>0</th>\n",
       "      <td>[Branch1][N][NH2+1][C][C][Branch1][C][C][Branc...</td>\n",
       "      <td>1.0</td>\n",
       "      <td>SELF-EdiT (0.114)</td>\n",
       "    </tr>\n",
       "    <tr>\n",
       "      <th>1</th>\n",
       "      <td>[C][Branch1][C][N][Branch2][Ring1][C][C][=C][C...</td>\n",
       "      <td>1.0</td>\n",
       "      <td>SELF-EdiT (0.114)</td>\n",
       "    </tr>\n",
       "    <tr>\n",
       "      <th>2</th>\n",
       "      <td>[=C][C][=Branch1][Ring2][=C][Ring1][=Branch2][...</td>\n",
       "      <td>2.0</td>\n",
       "      <td>SELF-EdiT (0.114)</td>\n",
       "    </tr>\n",
       "    <tr>\n",
       "      <th>3</th>\n",
       "      <td>[C][N][=C][N][=C][Branch1][N][N][N][=C][Branch...</td>\n",
       "      <td>4.0</td>\n",
       "      <td>SELF-EdiT (0.114)</td>\n",
       "    </tr>\n",
       "    <tr>\n",
       "      <th>4</th>\n",
       "      <td>[O][=C][N][=C][C][Branch1][C][Cl][=C][Ring1][#...</td>\n",
       "      <td>2.0</td>\n",
       "      <td>SELF-EdiT (0.114)</td>\n",
       "    </tr>\n",
       "    <tr>\n",
       "      <th>...</th>\n",
       "      <td>...</td>\n",
       "      <td>...</td>\n",
       "      <td>...</td>\n",
       "    </tr>\n",
       "    <tr>\n",
       "      <th>11157</th>\n",
       "      <td>[C][=C][Branch1][N][C][O][C][Branch1][=C][N][C...</td>\n",
       "      <td>6.0</td>\n",
       "      <td>STONED (0.649)</td>\n",
       "    </tr>\n",
       "    <tr>\n",
       "      <th>11158</th>\n",
       "      <td>[C][C][=C][N][Branch1][=Branch1][C][C][Ring1][...</td>\n",
       "      <td>4.0</td>\n",
       "      <td>STONED (0.649)</td>\n",
       "    </tr>\n",
       "    <tr>\n",
       "      <th>11159</th>\n",
       "      <td>[C][Branch1][C][O][C][=C][C][Branch1][C][Br][=...</td>\n",
       "      <td>1.0</td>\n",
       "      <td>STONED (0.649)</td>\n",
       "    </tr>\n",
       "    <tr>\n",
       "      <th>11160</th>\n",
       "      <td>[C][Branch2][Ring1][=Branch2][C][N][Branch1][S...</td>\n",
       "      <td>4.0</td>\n",
       "      <td>STONED (0.649)</td>\n",
       "    </tr>\n",
       "    <tr>\n",
       "      <th>11161</th>\n",
       "      <td>[N][C][C][=C][C][Branch1][C][Br][=C][N][=C][Ri...</td>\n",
       "      <td>4.0</td>\n",
       "      <td>STONED (0.649)</td>\n",
       "    </tr>\n",
       "  </tbody>\n",
       "</table>\n",
       "<p>11162 rows × 3 columns</p>\n",
       "</div>"
      ],
      "text/plain": [
       "                                                 SELFIES  \\\n",
       "0      [Branch1][N][NH2+1][C][C][Branch1][C][C][Branc...   \n",
       "1      [C][Branch1][C][N][Branch2][Ring1][C][C][=C][C...   \n",
       "2      [=C][C][=Branch1][Ring2][=C][Ring1][=Branch2][...   \n",
       "3      [C][N][=C][N][=C][Branch1][N][N][N][=C][Branch...   \n",
       "4      [O][=C][N][=C][C][Branch1][C][Cl][=C][Ring1][#...   \n",
       "...                                                  ...   \n",
       "11157  [C][=C][Branch1][N][C][O][C][Branch1][=C][N][C...   \n",
       "11158  [C][C][=C][N][Branch1][=Branch1][C][C][Ring1][...   \n",
       "11159  [C][Branch1][C][O][C][=C][C][Branch1][C][Br][=...   \n",
       "11160  [C][Branch2][Ring1][=Branch2][C][N][Branch1][S...   \n",
       "11161  [N][C][C][=C][C][Branch1][C][Br][=C][N][=C][Ri...   \n",
       "\n",
       "       Levenshtein Distance     Collapse Rates  \n",
       "0                       1.0  SELF-EdiT (0.114)  \n",
       "1                       1.0  SELF-EdiT (0.114)  \n",
       "2                       2.0  SELF-EdiT (0.114)  \n",
       "3                       4.0  SELF-EdiT (0.114)  \n",
       "4                       2.0  SELF-EdiT (0.114)  \n",
       "...                     ...                ...  \n",
       "11157                   6.0     STONED (0.649)  \n",
       "11158                   4.0     STONED (0.649)  \n",
       "11159                   1.0     STONED (0.649)  \n",
       "11160                   4.0     STONED (0.649)  \n",
       "11161                   4.0     STONED (0.649)  \n",
       "\n",
       "[11162 rows x 3 columns]"
      ]
     },
     "execution_count": 23,
     "metadata": {},
     "output_type": "execute_result"
    }
   ],
   "source": [
    "df_qed_nonzero"
   ]
  },
  {
   "cell_type": "code",
   "execution_count": 24,
   "id": "7d077f74",
   "metadata": {},
   "outputs": [
    {
     "data": {
      "text/html": [
       "<div>\n",
       "<style scoped>\n",
       "    .dataframe tbody tr th:only-of-type {\n",
       "        vertical-align: middle;\n",
       "    }\n",
       "\n",
       "    .dataframe tbody tr th {\n",
       "        vertical-align: top;\n",
       "    }\n",
       "\n",
       "    .dataframe thead th {\n",
       "        text-align: right;\n",
       "    }\n",
       "</style>\n",
       "<table border=\"1\" class=\"dataframe\">\n",
       "  <thead>\n",
       "    <tr style=\"text-align: right;\">\n",
       "      <th></th>\n",
       "      <th>SELFIES</th>\n",
       "      <th>Levenshtein Distance</th>\n",
       "      <th>Collapse Rates</th>\n",
       "    </tr>\n",
       "  </thead>\n",
       "  <tbody>\n",
       "    <tr>\n",
       "      <th>0</th>\n",
       "      <td>[C][NH1+1][=C][N][C][C][C][N][C][=Branch1][C][=O]</td>\n",
       "      <td>2.0</td>\n",
       "      <td>SELF-EdiT (0.233)</td>\n",
       "    </tr>\n",
       "    <tr>\n",
       "      <th>1</th>\n",
       "      <td>[Branch1][#C][C][=N][C][=C][Branch1][Ring2][S]...</td>\n",
       "      <td>2.0</td>\n",
       "      <td>SELF-EdiT (0.233)</td>\n",
       "    </tr>\n",
       "    <tr>\n",
       "      <th>2</th>\n",
       "      <td>[Branch2][Ring1][C][C][C][=C][Branch1][Branch1...</td>\n",
       "      <td>2.0</td>\n",
       "      <td>SELF-EdiT (0.233)</td>\n",
       "    </tr>\n",
       "    <tr>\n",
       "      <th>3</th>\n",
       "      <td>[Branch1][=C][O][C][C][C][=C][Branch1][C][C][N...</td>\n",
       "      <td>2.0</td>\n",
       "      <td>SELF-EdiT (0.233)</td>\n",
       "    </tr>\n",
       "    <tr>\n",
       "      <th>4</th>\n",
       "      <td>[Branch2][Ring1][C][C][=C][C][=C][O][C][C][=Br...</td>\n",
       "      <td>2.0</td>\n",
       "      <td>SELF-EdiT (0.233)</td>\n",
       "    </tr>\n",
       "    <tr>\n",
       "      <th>...</th>\n",
       "      <td>...</td>\n",
       "      <td>...</td>\n",
       "      <td>...</td>\n",
       "    </tr>\n",
       "    <tr>\n",
       "      <th>12223</th>\n",
       "      <td>[C][C][N][Branch1][#Branch1][C][C][C][C][Ring1...</td>\n",
       "      <td>2.0</td>\n",
       "      <td>STONED (0.499)</td>\n",
       "    </tr>\n",
       "    <tr>\n",
       "      <th>12224</th>\n",
       "      <td>[C][=C][C][=Branch2][Ring1][#Branch1][=C][C][=...</td>\n",
       "      <td>5.0</td>\n",
       "      <td>STONED (0.499)</td>\n",
       "    </tr>\n",
       "    <tr>\n",
       "      <th>12225</th>\n",
       "      <td>[N][Branch1][=N][C][C][C][N][C][C][C][C][C][Ri...</td>\n",
       "      <td>1.0</td>\n",
       "      <td>STONED (0.499)</td>\n",
       "    </tr>\n",
       "    <tr>\n",
       "      <th>12226</th>\n",
       "      <td>[C][C][N][Branch1][N][C][C][=C][C][=Branch1][B...</td>\n",
       "      <td>5.0</td>\n",
       "      <td>STONED (0.499)</td>\n",
       "    </tr>\n",
       "    <tr>\n",
       "      <th>12227</th>\n",
       "      <td>[C][=C][Branch1][C][Br][C][=C][C][Branch2][Rin...</td>\n",
       "      <td>1.0</td>\n",
       "      <td>STONED (0.499)</td>\n",
       "    </tr>\n",
       "  </tbody>\n",
       "</table>\n",
       "<p>12228 rows × 3 columns</p>\n",
       "</div>"
      ],
      "text/plain": [
       "                                                 SELFIES  \\\n",
       "0      [C][NH1+1][=C][N][C][C][C][N][C][=Branch1][C][=O]   \n",
       "1      [Branch1][#C][C][=N][C][=C][Branch1][Ring2][S]...   \n",
       "2      [Branch2][Ring1][C][C][C][=C][Branch1][Branch1...   \n",
       "3      [Branch1][=C][O][C][C][C][=C][Branch1][C][C][N...   \n",
       "4      [Branch2][Ring1][C][C][=C][C][=C][O][C][C][=Br...   \n",
       "...                                                  ...   \n",
       "12223  [C][C][N][Branch1][#Branch1][C][C][C][C][Ring1...   \n",
       "12224  [C][=C][C][=Branch2][Ring1][#Branch1][=C][C][=...   \n",
       "12225  [N][Branch1][=N][C][C][C][N][C][C][C][C][C][Ri...   \n",
       "12226  [C][C][N][Branch1][N][C][C][=C][C][=Branch1][B...   \n",
       "12227  [C][=C][Branch1][C][Br][C][=C][C][Branch2][Rin...   \n",
       "\n",
       "       Levenshtein Distance     Collapse Rates  \n",
       "0                       2.0  SELF-EdiT (0.233)  \n",
       "1                       2.0  SELF-EdiT (0.233)  \n",
       "2                       2.0  SELF-EdiT (0.233)  \n",
       "3                       2.0  SELF-EdiT (0.233)  \n",
       "4                       2.0  SELF-EdiT (0.233)  \n",
       "...                     ...                ...  \n",
       "12223                   2.0     STONED (0.499)  \n",
       "12224                   5.0     STONED (0.499)  \n",
       "12225                   1.0     STONED (0.499)  \n",
       "12226                   5.0     STONED (0.499)  \n",
       "12227                   1.0     STONED (0.499)  \n",
       "\n",
       "[12228 rows x 3 columns]"
      ]
     },
     "execution_count": 24,
     "metadata": {},
     "output_type": "execute_result"
    }
   ],
   "source": [
    "df_drd2_nonzero"
   ]
  },
  {
   "cell_type": "code",
   "execution_count": 25,
   "id": "92aa586d",
   "metadata": {},
   "outputs": [
    {
     "data": {
      "image/png": "[encoded data removed]",
      "text/plain": [
       "<Figure size 800x500 with 2 Axes>"
      ]
     },
     "metadata": {},
     "output_type": "display_data"
    }
   ],
   "source": [
    "sns.set_theme(style='darkgrid')\n",
    "\n",
    "fig, ax = plt.subplots(2,1,figsize=(8,5))\n",
    "\n",
    "_ = sns.histplot(\n",
    "    data=df_qed_nonzero,\n",
    "    x='Levenshtein Distance',\n",
    "    hue='Collapse Rates',\n",
    "    discrete=True,\n",
    "    multiple='dodge',\n",
    "    shrink=0.75,\n",
    "    ax=ax[0],\n",
    ")\n",
    "\n",
    "_ = sns.histplot(\n",
    "    data=df_drd2_nonzero,\n",
    "    x='Levenshtein Distance',\n",
    "    hue='Collapse Rates',\n",
    "    discrete=True,\n",
    "    multiple='dodge',\n",
    "    shrink=0.75,\n",
    "    ax=ax[1],\n",
    ")\n",
    "\n",
    "for i in range(2):\n",
    "    ax[i].set_xticks(range(1,11))\n",
    "    ax[i].set_ylabel('Number of\\nSELFIES collapse')\n",
    "\n",
    "plt.tight_layout()\n",
    "#plt.show()\n",
    "plt.savefig(os.path.join(configs.OUTPUT_DIR, 'histplots_qed_drd2.png'), dpi=300)"
   ]
  },
  {
   "cell_type": "code",
   "execution_count": null,
   "id": "49e2cf0b",
   "metadata": {},
   "outputs": [],
   "source": []
  }
 ],
 "metadata": {
  "kernelspec": {
   "display_name": "Python 3 (ipykernel)",
   "language": "python",
   "name": "python3"
  },
  "language_info": {
   "codemirror_mode": {
    "name": "ipython",
    "version": 3
   },
   "file_extension": ".py",
   "mimetype": "text/x-python",
   "name": "python",
   "nbconvert_exporter": "python",
   "pygments_lexer": "ipython3",
   "version": "3.7.12"
  }
 },
 "nbformat": 4,
 "nbformat_minor": 5
}
